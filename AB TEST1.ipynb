{
 "cells": [
  {
   "cell_type": "code",
   "execution_count": 96,
   "id": "5f88a56a",
   "metadata": {},
   "outputs": [],
   "source": [
    "# Импортируем необходимые библиотеки и загружаем данные из файлов:\n",
    "import pandas as pd\n",
    "import numpy as np\n",
    "import matplotlib.pyplot as plt"
   ]
  },
  {
   "cell_type": "code",
   "execution_count": 97,
   "id": "6ac4b2fd",
   "metadata": {},
   "outputs": [],
   "source": [
    "data = pd.read_csv('Данные.csv', sep = ';')\n",
    "clients = pd.read_csv('Clients.csv', sep = ';')\n",
    "region_dict = pd.read_csv('Region_dict.csv', sep = ';')"
   ]
  },
  {
   "cell_type": "code",
   "execution_count": 98,
   "id": "d28c4e9d",
   "metadata": {},
   "outputs": [
    {
     "data": {
      "text/html": [
       "<div>\n",
       "<style scoped>\n",
       "    .dataframe tbody tr th:only-of-type {\n",
       "        vertical-align: middle;\n",
       "    }\n",
       "\n",
       "    .dataframe tbody tr th {\n",
       "        vertical-align: top;\n",
       "    }\n",
       "\n",
       "    .dataframe thead th {\n",
       "        text-align: right;\n",
       "    }\n",
       "</style>\n",
       "<table border=\"1\" class=\"dataframe\">\n",
       "  <thead>\n",
       "    <tr style=\"text-align: right;\">\n",
       "      <th></th>\n",
       "      <th>id_order</th>\n",
       "      <th>id_client</th>\n",
       "      <th>amt_payment</th>\n",
       "      <th>dtime_pay</th>\n",
       "    </tr>\n",
       "  </thead>\n",
       "  <tbody>\n",
       "    <tr>\n",
       "      <th>0</th>\n",
       "      <td>100238</td>\n",
       "      <td>194569.0</td>\n",
       "      <td>5373.0</td>\n",
       "      <td>28.10.2022</td>\n",
       "    </tr>\n",
       "    <tr>\n",
       "      <th>1</th>\n",
       "      <td>100242</td>\n",
       "      <td>191056.0</td>\n",
       "      <td>4151.0</td>\n",
       "      <td>01.08.2022</td>\n",
       "    </tr>\n",
       "    <tr>\n",
       "      <th>2</th>\n",
       "      <td>100249</td>\n",
       "      <td>200049.0</td>\n",
       "      <td>5688.0</td>\n",
       "      <td>24.08.2022</td>\n",
       "    </tr>\n",
       "    <tr>\n",
       "      <th>3</th>\n",
       "      <td>100258</td>\n",
       "      <td>206161.0</td>\n",
       "      <td>4330.0</td>\n",
       "      <td>09.12.2022</td>\n",
       "    </tr>\n",
       "    <tr>\n",
       "      <th>4</th>\n",
       "      <td>100267</td>\n",
       "      <td>190945.0</td>\n",
       "      <td>5488.0</td>\n",
       "      <td>03.08.2022</td>\n",
       "    </tr>\n",
       "    <tr>\n",
       "      <th>...</th>\n",
       "      <td>...</td>\n",
       "      <td>...</td>\n",
       "      <td>...</td>\n",
       "      <td>...</td>\n",
       "    </tr>\n",
       "    <tr>\n",
       "      <th>37984</th>\n",
       "      <td>297586</td>\n",
       "      <td>NaN</td>\n",
       "      <td>NaN</td>\n",
       "      <td>NaN</td>\n",
       "    </tr>\n",
       "    <tr>\n",
       "      <th>37985</th>\n",
       "      <td>297593</td>\n",
       "      <td>179230.0</td>\n",
       "      <td>5755.0</td>\n",
       "      <td>05.09.2022</td>\n",
       "    </tr>\n",
       "    <tr>\n",
       "      <th>37986</th>\n",
       "      <td>297595</td>\n",
       "      <td>192530.0</td>\n",
       "      <td>4448.0</td>\n",
       "      <td>27.09.2022</td>\n",
       "    </tr>\n",
       "    <tr>\n",
       "      <th>37987</th>\n",
       "      <td>297601</td>\n",
       "      <td>183888.0</td>\n",
       "      <td>1746.0</td>\n",
       "      <td>13.10.2022</td>\n",
       "    </tr>\n",
       "    <tr>\n",
       "      <th>37988</th>\n",
       "      <td>297607</td>\n",
       "      <td>182638.0</td>\n",
       "      <td>3604.0</td>\n",
       "      <td>13.10.2022</td>\n",
       "    </tr>\n",
       "  </tbody>\n",
       "</table>\n",
       "<p>37989 rows × 4 columns</p>\n",
       "</div>"
      ],
      "text/plain": [
       "       id_order  id_client  amt_payment   dtime_pay\n",
       "0        100238   194569.0       5373.0  28.10.2022\n",
       "1        100242   191056.0       4151.0  01.08.2022\n",
       "2        100249   200049.0       5688.0  24.08.2022\n",
       "3        100258   206161.0       4330.0  09.12.2022\n",
       "4        100267   190945.0       5488.0  03.08.2022\n",
       "...         ...        ...          ...         ...\n",
       "37984    297586        NaN          NaN         NaN\n",
       "37985    297593   179230.0       5755.0  05.09.2022\n",
       "37986    297595   192530.0       4448.0  27.09.2022\n",
       "37987    297601   183888.0       1746.0  13.10.2022\n",
       "37988    297607   182638.0       3604.0  13.10.2022\n",
       "\n",
       "[37989 rows x 4 columns]"
      ]
     },
     "execution_count": 98,
     "metadata": {},
     "output_type": "execute_result"
    }
   ],
   "source": [
    "data"
   ]
  },
  {
   "cell_type": "code",
   "execution_count": 99,
   "id": "5cbbcfc4",
   "metadata": {
    "scrolled": false
   },
   "outputs": [
    {
     "data": {
      "text/html": [
       "<div>\n",
       "<style scoped>\n",
       "    .dataframe tbody tr th:only-of-type {\n",
       "        vertical-align: middle;\n",
       "    }\n",
       "\n",
       "    .dataframe tbody tr th {\n",
       "        vertical-align: top;\n",
       "    }\n",
       "\n",
       "    .dataframe thead th {\n",
       "        text-align: right;\n",
       "    }\n",
       "</style>\n",
       "<table border=\"1\" class=\"dataframe\">\n",
       "  <thead>\n",
       "    <tr style=\"text-align: right;\">\n",
       "      <th></th>\n",
       "      <th>id_trading_point</th>\n",
       "      <th>city</th>\n",
       "    </tr>\n",
       "  </thead>\n",
       "  <tbody>\n",
       "    <tr>\n",
       "      <th>0</th>\n",
       "      <td>1</td>\n",
       "      <td>Петрозаводск</td>\n",
       "    </tr>\n",
       "    <tr>\n",
       "      <th>1</th>\n",
       "      <td>2</td>\n",
       "      <td>Дмитров</td>\n",
       "    </tr>\n",
       "    <tr>\n",
       "      <th>2</th>\n",
       "      <td>4</td>\n",
       "      <td>Чехов</td>\n",
       "    </tr>\n",
       "    <tr>\n",
       "      <th>3</th>\n",
       "      <td>7</td>\n",
       "      <td>Ростов Великий</td>\n",
       "    </tr>\n",
       "    <tr>\n",
       "      <th>4</th>\n",
       "      <td>11</td>\n",
       "      <td>Владимир</td>\n",
       "    </tr>\n",
       "    <tr>\n",
       "      <th>...</th>\n",
       "      <td>...</td>\n",
       "      <td>...</td>\n",
       "    </tr>\n",
       "    <tr>\n",
       "      <th>61</th>\n",
       "      <td>3987</td>\n",
       "      <td>Москва</td>\n",
       "    </tr>\n",
       "    <tr>\n",
       "      <th>62</th>\n",
       "      <td>6543</td>\n",
       "      <td>Москва</td>\n",
       "    </tr>\n",
       "    <tr>\n",
       "      <th>63</th>\n",
       "      <td>8543</td>\n",
       "      <td>Москва</td>\n",
       "    </tr>\n",
       "    <tr>\n",
       "      <th>64</th>\n",
       "      <td>9121</td>\n",
       "      <td>Москва</td>\n",
       "    </tr>\n",
       "    <tr>\n",
       "      <th>65</th>\n",
       "      <td>9931</td>\n",
       "      <td>Москва</td>\n",
       "    </tr>\n",
       "  </tbody>\n",
       "</table>\n",
       "<p>66 rows × 2 columns</p>\n",
       "</div>"
      ],
      "text/plain": [
       "    id_trading_point            city\n",
       "0                  1    Петрозаводск\n",
       "1                  2         Дмитров\n",
       "2                  4           Чехов\n",
       "3                  7  Ростов Великий\n",
       "4                 11        Владимир\n",
       "..               ...             ...\n",
       "61              3987          Москва\n",
       "62              6543          Москва\n",
       "63              8543          Москва\n",
       "64              9121          Москва\n",
       "65              9931          Москва\n",
       "\n",
       "[66 rows x 2 columns]"
      ]
     },
     "execution_count": 99,
     "metadata": {},
     "output_type": "execute_result"
    }
   ],
   "source": [
    "region_dict"
   ]
  },
  {
   "cell_type": "code",
   "execution_count": 100,
   "id": "77a6652f",
   "metadata": {},
   "outputs": [
    {
     "data": {
      "text/html": [
       "<div>\n",
       "<style scoped>\n",
       "    .dataframe tbody tr th:only-of-type {\n",
       "        vertical-align: middle;\n",
       "    }\n",
       "\n",
       "    .dataframe tbody tr th {\n",
       "        vertical-align: top;\n",
       "    }\n",
       "\n",
       "    .dataframe thead th {\n",
       "        text-align: right;\n",
       "    }\n",
       "</style>\n",
       "<table border=\"1\" class=\"dataframe\">\n",
       "  <thead>\n",
       "    <tr style=\"text-align: right;\">\n",
       "      <th></th>\n",
       "      <th>id_client</th>\n",
       "      <th>dtime_ad</th>\n",
       "      <th>nflag_test</th>\n",
       "      <th>id_trading_point</th>\n",
       "    </tr>\n",
       "  </thead>\n",
       "  <tbody>\n",
       "    <tr>\n",
       "      <th>0</th>\n",
       "      <td>180844</td>\n",
       "      <td>08.06.2022</td>\n",
       "      <td>0</td>\n",
       "      <td>212</td>\n",
       "    </tr>\n",
       "    <tr>\n",
       "      <th>1</th>\n",
       "      <td>193942</td>\n",
       "      <td>NaN</td>\n",
       "      <td>0</td>\n",
       "      <td>13</td>\n",
       "    </tr>\n",
       "    <tr>\n",
       "      <th>2</th>\n",
       "      <td>226069</td>\n",
       "      <td>11.07.2022</td>\n",
       "      <td>1</td>\n",
       "      <td>54</td>\n",
       "    </tr>\n",
       "    <tr>\n",
       "      <th>3</th>\n",
       "      <td>183981</td>\n",
       "      <td>16.06.2022</td>\n",
       "      <td>1</td>\n",
       "      <td>991</td>\n",
       "    </tr>\n",
       "    <tr>\n",
       "      <th>4</th>\n",
       "      <td>322530</td>\n",
       "      <td>08.07.2022</td>\n",
       "      <td>0</td>\n",
       "      <td>1015</td>\n",
       "    </tr>\n",
       "    <tr>\n",
       "      <th>...</th>\n",
       "      <td>...</td>\n",
       "      <td>...</td>\n",
       "      <td>...</td>\n",
       "      <td>...</td>\n",
       "    </tr>\n",
       "    <tr>\n",
       "      <th>55600</th>\n",
       "      <td>193038</td>\n",
       "      <td>09.07.2022</td>\n",
       "      <td>0</td>\n",
       "      <td>1015</td>\n",
       "    </tr>\n",
       "    <tr>\n",
       "      <th>55601</th>\n",
       "      <td>244069</td>\n",
       "      <td>08.08.2022</td>\n",
       "      <td>1</td>\n",
       "      <td>991</td>\n",
       "    </tr>\n",
       "    <tr>\n",
       "      <th>55602</th>\n",
       "      <td>189084</td>\n",
       "      <td>29.06.2022</td>\n",
       "      <td>1</td>\n",
       "      <td>439</td>\n",
       "    </tr>\n",
       "    <tr>\n",
       "      <th>55603</th>\n",
       "      <td>182758</td>\n",
       "      <td>13.06.2022</td>\n",
       "      <td>1</td>\n",
       "      <td>573</td>\n",
       "    </tr>\n",
       "    <tr>\n",
       "      <th>55604</th>\n",
       "      <td>317377</td>\n",
       "      <td>12.08.2022</td>\n",
       "      <td>1</td>\n",
       "      <td>477</td>\n",
       "    </tr>\n",
       "  </tbody>\n",
       "</table>\n",
       "<p>55605 rows × 4 columns</p>\n",
       "</div>"
      ],
      "text/plain": [
       "       id_client    dtime_ad  nflag_test  id_trading_point\n",
       "0         180844  08.06.2022           0               212\n",
       "1         193942         NaN           0                13\n",
       "2         226069  11.07.2022           1                54\n",
       "3         183981  16.06.2022           1               991\n",
       "4         322530  08.07.2022           0              1015\n",
       "...          ...         ...         ...               ...\n",
       "55600     193038  09.07.2022           0              1015\n",
       "55601     244069  08.08.2022           1               991\n",
       "55602     189084  29.06.2022           1               439\n",
       "55603     182758  13.06.2022           1               573\n",
       "55604     317377  12.08.2022           1               477\n",
       "\n",
       "[55605 rows x 4 columns]"
      ]
     },
     "execution_count": 100,
     "metadata": {},
     "output_type": "execute_result"
    }
   ],
   "source": [
    "clients"
   ]
  },
  {
   "cell_type": "code",
   "execution_count": 101,
   "id": "ce9721ed",
   "metadata": {},
   "outputs": [
    {
     "data": {
      "text/plain": [
       "id_order          0\n",
       "id_client       588\n",
       "amt_payment    2144\n",
       "dtime_pay      2161\n",
       "dtype: int64"
      ]
     },
     "execution_count": 101,
     "metadata": {},
     "output_type": "execute_result"
    }
   ],
   "source": [
    "# Проверяем таблицы на наличие пустых значений:\n",
    "data.isnull().sum()"
   ]
  },
  {
   "cell_type": "code",
   "execution_count": 102,
   "id": "9a660b63",
   "metadata": {},
   "outputs": [
    {
     "data": {
      "text/plain": [
       "id_client             0\n",
       "dtime_ad            249\n",
       "nflag_test            0\n",
       "id_trading_point      0\n",
       "dtype: int64"
      ]
     },
     "execution_count": 102,
     "metadata": {},
     "output_type": "execute_result"
    }
   ],
   "source": [
    "clients.isnull().sum()"
   ]
  },
  {
   "cell_type": "code",
   "execution_count": 103,
   "id": "5d3f19c6",
   "metadata": {
    "scrolled": true
   },
   "outputs": [
    {
     "data": {
      "text/plain": [
       "id_trading_point    0\n",
       "city                0\n",
       "dtype: int64"
      ]
     },
     "execution_count": 103,
     "metadata": {},
     "output_type": "execute_result"
    }
   ],
   "source": [
    "region_dict.isnull().sum()"
   ]
  },
  {
   "cell_type": "code",
   "execution_count": 104,
   "id": "b700b820",
   "metadata": {},
   "outputs": [],
   "source": [
    "# Обработка нулловых значений\n",
    "# Исключим из таблиц все строки, в которых есть нулловые значения:\n",
    "data = data.dropna()\n",
    "clients = clients.dropna()\n",
    "region_dict = region_dict.dropna()\n",
    "# В данном случае замена нуллов на другие значения нецелесообразна, \n",
    "# так как это может исказить результаты анализа."
   ]
  },
  {
   "cell_type": "code",
   "execution_count": 105,
   "id": "490437fb",
   "metadata": {},
   "outputs": [],
   "source": [
    "# Количество торговых точек в каждом городе\n",
    "merged_data = clients.merge(region_dict, on='id_trading_point')"
   ]
  },
  {
   "cell_type": "code",
   "execution_count": 106,
   "id": "77e84116",
   "metadata": {},
   "outputs": [],
   "source": [
    "# merged_data\n",
    "# count_test = len(merged_data[(merged_data['nflag_test'] == 1) & (merged_data['city']=='Краснодар')& (merged_data['id_trading_point']==1015)])\n",
    "# count_control = len(merged_data[merged_data['nflag_test'] == 0] & (merged_data['city']=='Краснодар')& (merged_data['id_trading_point']==1015))\n",
    "\n",
    "# count_test , count_control"
   ]
  },
  {
   "cell_type": "code",
   "execution_count": 107,
   "id": "cd1f4c65",
   "metadata": {},
   "outputs": [],
   "source": [
    "# merged_data[(merged_data['city']=='Краснодар')  & (merged_data['nflag_test']==0) & (merged_data['id_trading_point']==1015) ]"
   ]
  },
  {
   "cell_type": "code",
   "execution_count": 108,
   "id": "0321bc8c",
   "metadata": {},
   "outputs": [],
   "source": [
    "# Группируем полученную таблицу по полю city и подсчитаем количество уникальных значений поля id_trading_point в каждой группе:\n",
    "grouped_data = merged_data.groupby(['city']).agg({'id_trading_point': 'nunique'}).reset_index()\n",
    "grouped_data.columns = ['city', 'num_trading_points']\n",
    "grouped_data_sort = grouped_data.sort_values(by='num_trading_points', ascending=False)"
   ]
  },
  {
   "cell_type": "code",
   "execution_count": 109,
   "id": "1f1ea24b",
   "metadata": {},
   "outputs": [],
   "source": [
    "# Краснодар 4\n",
    "# Новосибирск 6"
   ]
  },
  {
   "cell_type": "code",
   "execution_count": 110,
   "id": "2a69242d",
   "metadata": {},
   "outputs": [],
   "source": [
    "#  grouped_data_sort"
   ]
  },
  {
   "cell_type": "code",
   "execution_count": 111,
   "id": "e2c8ec2a",
   "metadata": {},
   "outputs": [
    {
     "data": {
      "image/png": "[encoded data removed]",
      "text/plain": [
       "<Figure size 640x480 with 1 Axes>"
      ]
     },
     "metadata": {},
     "output_type": "display_data"
    }
   ],
   "source": [
    "# Построим гистограмму распределения количества торговых точек в каждом городе:\n",
    "plt.bar(grouped_data_sort['city'], grouped_data_sort['num_trading_points'])\n",
    "plt.xticks(rotation=90)\n",
    "plt.xlabel('Город')\n",
    "plt.ylabel('Количество торговых точек')\n",
    "plt.show()\n"
   ]
  },
  {
   "cell_type": "code",
   "execution_count": 112,
   "id": "4ada2600",
   "metadata": {},
   "outputs": [
    {
     "data": {
      "text/html": [
       "<div>\n",
       "<style scoped>\n",
       "    .dataframe tbody tr th:only-of-type {\n",
       "        vertical-align: middle;\n",
       "    }\n",
       "\n",
       "    .dataframe tbody tr th {\n",
       "        vertical-align: top;\n",
       "    }\n",
       "\n",
       "    .dataframe thead th {\n",
       "        text-align: right;\n",
       "    }\n",
       "</style>\n",
       "<table border=\"1\" class=\"dataframe\">\n",
       "  <thead>\n",
       "    <tr style=\"text-align: right;\">\n",
       "      <th></th>\n",
       "      <th>id_client</th>\n",
       "      <th>total_payments</th>\n",
       "    </tr>\n",
       "  </thead>\n",
       "  <tbody>\n",
       "    <tr>\n",
       "      <th>0</th>\n",
       "      <td>178561.0</td>\n",
       "      <td>3052.0</td>\n",
       "    </tr>\n",
       "    <tr>\n",
       "      <th>1</th>\n",
       "      <td>178562.0</td>\n",
       "      <td>2439.0</td>\n",
       "    </tr>\n",
       "    <tr>\n",
       "      <th>2</th>\n",
       "      <td>178563.0</td>\n",
       "      <td>768.0</td>\n",
       "    </tr>\n",
       "    <tr>\n",
       "      <th>3</th>\n",
       "      <td>178565.0</td>\n",
       "      <td>958.0</td>\n",
       "    </tr>\n",
       "    <tr>\n",
       "      <th>4</th>\n",
       "      <td>178566.0</td>\n",
       "      <td>5474.0</td>\n",
       "    </tr>\n",
       "    <tr>\n",
       "      <th>...</th>\n",
       "      <td>...</td>\n",
       "      <td>...</td>\n",
       "    </tr>\n",
       "    <tr>\n",
       "      <th>28595</th>\n",
       "      <td>209630.0</td>\n",
       "      <td>6927.0</td>\n",
       "    </tr>\n",
       "    <tr>\n",
       "      <th>28596</th>\n",
       "      <td>209631.0</td>\n",
       "      <td>2090.0</td>\n",
       "    </tr>\n",
       "    <tr>\n",
       "      <th>28597</th>\n",
       "      <td>209632.0</td>\n",
       "      <td>2775.0</td>\n",
       "    </tr>\n",
       "    <tr>\n",
       "      <th>28598</th>\n",
       "      <td>209633.0</td>\n",
       "      <td>1673.0</td>\n",
       "    </tr>\n",
       "    <tr>\n",
       "      <th>28599</th>\n",
       "      <td>209634.0</td>\n",
       "      <td>2504.0</td>\n",
       "    </tr>\n",
       "  </tbody>\n",
       "</table>\n",
       "<p>28600 rows × 2 columns</p>\n",
       "</div>"
      ],
      "text/plain": [
       "       id_client  total_payments\n",
       "0       178561.0          3052.0\n",
       "1       178562.0          2439.0\n",
       "2       178563.0           768.0\n",
       "3       178565.0           958.0\n",
       "4       178566.0          5474.0\n",
       "...          ...             ...\n",
       "28595   209630.0          6927.0\n",
       "28596   209631.0          2090.0\n",
       "28597   209632.0          2775.0\n",
       "28598   209633.0          1673.0\n",
       "28599   209634.0          2504.0\n",
       "\n",
       "[28600 rows x 2 columns]"
      ]
     },
     "execution_count": 112,
     "metadata": {},
     "output_type": "execute_result"
    }
   ],
   "source": [
    "# Вычисление суммы платежей на каждого клиента:\n",
    "payments_sum = data.groupby(['id_client']).agg({'amt_payment':'sum'}).reset_index()\n",
    "payments_sum.columns = ['id_client', 'total_payments']\n",
    "payments_sum"
   ]
  },
  {
   "cell_type": "code",
   "execution_count": 113,
   "id": "b4fac006",
   "metadata": {},
   "outputs": [],
   "source": [
    "# Соединение таблиц:\n",
    "merged_data = clients.merge(payments_sum, on='id_client', how='left')"
   ]
  },
  {
   "cell_type": "code",
   "execution_count": 114,
   "id": "fb508b30",
   "metadata": {},
   "outputs": [],
   "source": [
    "#  Заполнение нулями сумм покупок тех клиентов, которые их не совершали:\n",
    "merged_data['total_payments'] = merged_data['total_payments'].fillna(0)"
   ]
  },
  {
   "cell_type": "code",
   "execution_count": 115,
   "id": "84c9dd2b",
   "metadata": {},
   "outputs": [],
   "source": [
    "# Подтягивание города к каждой торговой точке:\n",
    "merged_data = merged_data.merge(region_dict[['id_trading_point', 'city']], on='id_trading_point', how='left')"
   ]
  },
  {
   "cell_type": "code",
   "execution_count": 116,
   "id": "e2b50257",
   "metadata": {},
   "outputs": [],
   "source": [
    "# Создание поля флага платежа\n",
    "merged_data['payment_flag'] = np.where(merged_data['total_payments'] > 0, 1, 0)"
   ]
  },
  {
   "cell_type": "code",
   "execution_count": 117,
   "id": "945679ae",
   "metadata": {},
   "outputs": [
    {
     "name": "stdout",
     "output_type": "stream",
     "text": [
      "Существует статистически значимая разница между средними выборок (p_value=1.811489847070908e-07)\n"
     ]
    },
    {
     "data": {
      "text/plain": [
       "Ttest_indResult(statistic=-5.21837498954176, pvalue=1.811489847070908e-07)"
      ]
     },
     "execution_count": 117,
     "metadata": {},
     "output_type": "execute_result"
    }
   ],
   "source": [
    "from scipy.stats import ttest_ind\n",
    "\n",
    "r1 = merged_data[(merged_data['nflag_test']==0)]['payment_flag']\n",
    "r2 = merged_data[(merged_data['nflag_test']==1)]['payment_flag']\n",
    "\n",
    "def test_calc(r1, r2, alpha=0.05):\n",
    "    t_stat, p_value = ttest_ind(r1, r2)\n",
    "    if p_value < alpha:\n",
    "        print(\"Существует статистически значимая разница между средними выборок (p_value={})\".format(p_value))\n",
    "    else:\n",
    "        print(\"Нет статистически значимой разницы между средними выборок (p_value={})\".format(p_value))\n",
    "\n",
    "test_calc(r1,r2),\n",
    "ttest_ind(r1, r2)"
   ]
  },
  {
   "cell_type": "code",
   "execution_count": 118,
   "id": "0f548eed",
   "metadata": {},
   "outputs": [
    {
     "name": "stdout",
     "output_type": "stream",
     "text": [
      "Существует статистически значимая разница между выборками (p_value=1.8170820747299213e-07)\n"
     ]
    },
    {
     "data": {
      "text/plain": [
       "MannwhitneyuResult(statistic=372567163.0, pvalue=1.8170820747299213e-07)"
      ]
     },
     "execution_count": 118,
     "metadata": {},
     "output_type": "execute_result"
    }
   ],
   "source": [
    "from scipy.stats import mannwhitneyu\n",
    "\n",
    "r1 = merged_data[(merged_data['nflag_test']==0)]['payment_flag']\n",
    "r2 = merged_data[(merged_data['nflag_test']==1)]['payment_flag']\n",
    "\n",
    "def mann_whitney_func(r1, r2, alpha=0.05):\n",
    "    stat, p_value = mannwhitneyu(r1, r2, alternative='two-sided')\n",
    "    if p_value < alpha:\n",
    "        print(\"Существует статистически значимая разница между выборками (p_value={})\".format(p_value))\n",
    "    else:\n",
    "        print(\"Нет статистически значимой разницы между выборками (p_value={})\".format(p_value))\n",
    "\n",
    "mann_whitney_func(r1,r2),\n",
    "mannwhitneyu(r1, r2)"
   ]
  },
  {
   "cell_type": "code",
   "execution_count": 119,
   "id": "bbe0122a",
   "metadata": {},
   "outputs": [],
   "source": [
    "# merged_data"
   ]
  },
  {
   "cell_type": "code",
   "execution_count": 120,
   "id": "86ab16f8",
   "metadata": {},
   "outputs": [],
   "source": [
    "# Список торговых точек, в которых не было заплачено ни одного рубля ни одним клиентом.\n",
    "empty_points = []\n",
    "for point in merged_data['id_trading_point'].unique():\n",
    "    temp_df = merged_data[merged_data['id_trading_point'] == point]\n",
    "    if temp_df['total_payments'].sum() == 0:\n",
    "        empty_points.append(point)"
   ]
  },
  {
   "cell_type": "code",
   "execution_count": 121,
   "id": "047969b8",
   "metadata": {},
   "outputs": [
    {
     "name": "stdout",
     "output_type": "stream",
     "text": [
      "[26, 7, 23, 4, 1, 13]\n"
     ]
    }
   ],
   "source": [
    "print(empty_points)"
   ]
  },
  {
   "cell_type": "code",
   "execution_count": 122,
   "id": "8960dac4",
   "metadata": {},
   "outputs": [],
   "source": [
    "# Список торговых точек, в которых пустует или контрольная, или тестовая группа.\n",
    "empty_groups = []\n",
    "for point in merged_data['id_trading_point'].unique():\n",
    "    temp_df = merged_data[merged_data['id_trading_point'] == point]\n",
    "    if temp_df['total_payments'].nunique() == 0:\n",
    "        empty_groups.append(point)"
   ]
  },
  {
   "cell_type": "code",
   "execution_count": 123,
   "id": "c0bb1585",
   "metadata": {},
   "outputs": [],
   "source": [
    "# Удалим все торговые точки, которые были найдены в списках «empty_points» и «empty_groups».\n",
    "merged_data = merged_data[~merged_data['id_trading_point'].isin(empty_points)]\n",
    "merged_data = merged_data[~merged_data['id_trading_point'].isin(empty_groups)]"
   ]
  },
  {
   "cell_type": "code",
   "execution_count": 124,
   "id": "7057c6e6",
   "metadata": {},
   "outputs": [
    {
     "data": {
      "text/plain": [
       "<Axes: xlabel='total_payments', ylabel='Count'>"
      ]
     },
     "execution_count": 124,
     "metadata": {},
     "output_type": "execute_result"
    },
    {
     "data": {
      "image/png": "[encoded data removed]",
      "text/plain": [
       "<Figure size 640x480 with 1 Axes>"
      ]
     },
     "metadata": {},
     "output_type": "display_data"
    }
   ],
   "source": [
    "# Гистограмма платежей, на которой различными цветами изображены группы “тест” и “контроль”. \n",
    "import seaborn as sns\n",
    "\n",
    "sns.histplot(data=merged_data, x='total_payments', hue='nflag_test', kde=True)"
   ]
  },
  {
   "cell_type": "code",
   "execution_count": 125,
   "id": "21ccef88",
   "metadata": {},
   "outputs": [],
   "source": [
    "merged_data['total_payments'] = pd.to_numeric(merged_data['total_payments'])\n",
    "merged_data['nflag_test'] = pd.to_numeric(merged_data['nflag_test'])"
   ]
  },
  {
   "cell_type": "code",
   "execution_count": 126,
   "id": "7de78dcf",
   "metadata": {},
   "outputs": [],
   "source": [
    "# merged_data"
   ]
  },
  {
   "cell_type": "code",
   "execution_count": 127,
   "id": "652b1813",
   "metadata": {},
   "outputs": [
    {
     "name": "stdout",
     "output_type": "stream",
     "text": [
      "Существует статистически значимая разница между средними выборок (p_value=2.0036456211777613e-12)\n"
     ]
    }
   ],
   "source": [
    "# 5.3\n",
    "r1 = merged_data[(merged_data['nflag_test']==0)]['total_payments']\n",
    "r2 = merged_data[(merged_data['nflag_test']==1)]['total_payments']\n",
    "\n",
    "test_calc(r1,r2)"
   ]
  },
  {
   "cell_type": "code",
   "execution_count": 128,
   "id": "3c372c8d",
   "metadata": {},
   "outputs": [
    {
     "name": "stdout",
     "output_type": "stream",
     "text": [
      "Существует статистически значимая разница между средними выборок (p_value=1.3336941671404502e-09)\n"
     ]
    }
   ],
   "source": [
    "# 5.4\n",
    "r1 = merged_data[(merged_data['nflag_test']==0)]['payment_flag']\n",
    "r2 = merged_data[(merged_data['nflag_test']==1)]['payment_flag']\n",
    "\n",
    "test_calc(r1,r2)"
   ]
  },
  {
   "cell_type": "code",
   "execution_count": 129,
   "id": "6d926a79",
   "metadata": {},
   "outputs": [
    {
     "name": "stdout",
     "output_type": "stream",
     "text": [
      "Существует статистически значимая разница между выборками (p_value=1.341555646122262e-09)\n"
     ]
    }
   ],
   "source": [
    "# 5.5\n",
    "r1 = merged_data[(merged_data['nflag_test']==0)]['payment_flag']\n",
    "r2 = merged_data[(merged_data['nflag_test']==1)]['payment_flag']\n",
    "\n",
    "mann_whitney_func(r1,r2)"
   ]
  },
  {
   "cell_type": "code",
   "execution_count": 130,
   "id": "5f64d12d",
   "metadata": {},
   "outputs": [
    {
     "name": "stdout",
     "output_type": "stream",
     "text": [
      "['Петрозаводск' 'Дмитров' 'Чехов' 'Ростов Великий' 'Владимир'\n",
      " 'Нижний Новгород' 'Тюмень' 'Великий Новгород' 'Ростов-на-Дону' 'Самара'\n",
      " 'Ярославль' 'Мурманск' 'Волгоград' 'Сахалинск' 'Сочи' 'Саратов'\n",
      " 'Тольятти' 'Санкт-Петербург' 'Красноярск' 'Новосибирск' 'Казань' 'Москва'\n",
      " 'Краснодар']\n"
     ]
    }
   ],
   "source": [
    "print(region_dict['city'].unique())"
   ]
  },
  {
   "cell_type": "code",
   "execution_count": 131,
   "id": "8f59673e",
   "metadata": {},
   "outputs": [],
   "source": [
    "# Повторим аналитику из пункта 5 в отношении Москвы."
   ]
  },
  {
   "cell_type": "code",
   "execution_count": 132,
   "id": "99e3d301",
   "metadata": {},
   "outputs": [],
   "source": [
    "moscow_data = merged_data[merged_data['city'] == 'Москва']"
   ]
  },
  {
   "cell_type": "code",
   "execution_count": 133,
   "id": "b947e4da",
   "metadata": {},
   "outputs": [
    {
     "name": "stdout",
     "output_type": "stream",
     "text": [
      "Существует статистически значимая разница между средними выборок (p_value=6.194689260032594e-10)\n",
      "Существует статистически значимая разница между выборками (p_value=6.370381156613038e-10)\n"
     ]
    }
   ],
   "source": [
    "r1 = moscow_data[(moscow_data['nflag_test']==0)]['payment_flag']\n",
    "r2 = moscow_data[(moscow_data['nflag_test']==1)]['payment_flag']\n",
    "\n",
    "test_calc(r1,r2)\n",
    "mann_whitney_func(r1,r2)"
   ]
  },
  {
   "cell_type": "code",
   "execution_count": 135,
   "id": "90a544d0",
   "metadata": {},
   "outputs": [],
   "source": [
    "# Повторим аналитику из пункта 5 в отношении Санкт-Петербурга."
   ]
  },
  {
   "cell_type": "code",
   "execution_count": 136,
   "id": "5fc6beb8",
   "metadata": {},
   "outputs": [],
   "source": [
    "spb_data = merged_data[merged_data['city'] == 'Санкт-Петербург']"
   ]
  },
  {
   "cell_type": "code",
   "execution_count": 137,
   "id": "51cf6a73",
   "metadata": {},
   "outputs": [
    {
     "name": "stdout",
     "output_type": "stream",
     "text": [
      "Существует статистически значимая разница между средними выборок (p_value=1.065825659919673e-20)\n",
      "Существует статистически значимая разница между выборками (p_value=1.3118606823466691e-20)\n"
     ]
    }
   ],
   "source": [
    "r1 = spb_data[(spb_data['nflag_test']==0)]['payment_flag']\n",
    "r2 = spb_data[(spb_data['nflag_test']==1)]['payment_flag']\n",
    "\n",
    "test_calc(r1,r2)\n",
    "mann_whitney_func(r1,r2)"
   ]
  },
  {
   "cell_type": "code",
   "execution_count": 139,
   "id": "21529441",
   "metadata": {},
   "outputs": [],
   "source": [
    "# Запустим цикл по оставшимся городам. Проведем такой же анализ."
   ]
  },
  {
   "cell_type": "code",
   "execution_count": 140,
   "id": "2dd0a020",
   "metadata": {},
   "outputs": [
    {
     "name": "stdout",
     "output_type": "stream",
     "text": [
      "### Красноярск ###\n",
      "ttest 0.12000608689929208\n",
      "pvalue 0.9044823881233125\n",
      "MannwhitneyuResult(statistic=4393882.0, pvalue=0.8770469886251647)\n",
      "\n",
      "### Мурманск ###\n",
      "ttest 0.06902498862889384\n",
      "pvalue 0.9449762446327565\n",
      "MannwhitneyuResult(statistic=569507.5, pvalue=0.5434251528583327)\n",
      "\n",
      "### Казань ###\n",
      "ttest 1.0655273408818378\n",
      "pvalue 0.286688049247618\n",
      "MannwhitneyuResult(statistic=3263925.0, pvalue=0.37726004167062477)\n",
      "\n",
      "### Краснодар ###\n",
      "ttest 1.1499685634233776\n",
      "pvalue 0.2502147737162163\n",
      "MannwhitneyuResult(statistic=1951099.0, pvalue=0.23094367751359168)\n",
      "\n",
      "### Новосибирск ###\n",
      "ttest 3.4631128428326985\n",
      "pvalue 0.0005382801056204593\n",
      "MannwhitneyuResult(statistic=3426781.0, pvalue=2.3393918439205915e-05)\n",
      "\n",
      "### Ярославль ###\n",
      "ttest -20.320571854948493\n",
      "pvalue 4.9011004367076225e-78\n",
      "MannwhitneyuResult(statistic=65726.0, pvalue=7.664284737629746e-91)\n",
      "\n",
      "### Саратов ###\n",
      "ttest -0.10516947629572568\n",
      "pvalue 0.9162512798549167\n",
      "MannwhitneyuResult(statistic=565440.5, pvalue=0.7833257779753139)\n",
      "\n",
      "### Тольятти ###\n",
      "ttest 1.5045563456740754\n",
      "pvalue 0.1333273246710206\n",
      "MannwhitneyuResult(statistic=17020.5, pvalue=0.22134177144014489)\n",
      "\n",
      "### Тюмень ###\n",
      "ttest 0.9264590634677944\n",
      "pvalue 0.3550227648604757\n",
      "MannwhitneyuResult(statistic=10741.0, pvalue=0.038066216007540725)\n",
      "\n",
      "### Волгоград ###\n",
      "ttest -2.0892718943323443\n",
      "pvalue 0.03686899928098654\n",
      "MannwhitneyuResult(statistic=216128.0, pvalue=0.03323940159324537)\n",
      "\n",
      "### Сочи ###\n",
      "ttest -1.5432162776667724\n",
      "pvalue 0.12297605685687812\n",
      "MannwhitneyuResult(statistic=303988.5, pvalue=0.05698257474271896)\n",
      "\n",
      "### Владимир ###\n",
      "ttest 2.5769554932923184\n",
      "pvalue 0.010095112170351712\n",
      "MannwhitneyuResult(statistic=165625.0, pvalue=0.03166761411886426)\n",
      "\n",
      "### Самара ###\n",
      "ttest 11.54083248253458\n",
      "pvalue 1.1014020778472052e-29\n",
      "MannwhitneyuResult(statistic=444975.5, pvalue=4.325201867794148e-30)\n",
      "\n",
      "### Сахалинск ###\n",
      "ttest 1.6270604929283117\n",
      "pvalue 0.10580921254927302\n",
      "MannwhitneyuResult(statistic=3159.5, pvalue=0.19868569514015844)\n",
      "\n",
      "### Дмитров ###\n",
      "ttest 0.3310524347645207\n",
      "pvalue 0.7410763125801646\n",
      "MannwhitneyuResult(statistic=2816.0, pvalue=0.7422551789442879)\n",
      "\n"
     ]
    }
   ],
   "source": [
    "from scipy import stats\n",
    "\n",
    "for city in merged_data['city'].unique():\n",
    "    if city not in ['Москва', 'Санкт-Петербург']:\n",
    "        city_data = merged_data[merged_data['city'] == city]\n",
    "        ttest, pvalue_ttest = stats.ttest_ind(city_data[city_data['nflag_test'] == 1]['total_payments'], city_data[city_data['nflag_test'] == 0]['total_payments'])\n",
    "        mannwhitneyu_1 = stats.mannwhitneyu(city_data[city_data['nflag_test'] == 1]['total_payments'], city_data[city_data['nflag_test'] == 0]['total_payments'])\n",
    "        print('###',city,'###')\n",
    "        print('ttest',ttest)\n",
    "        print('pvalue',pvalue_ttest)\n",
    "        print(mannwhitneyu_1)\n",
    "        print('')"
   ]
  },
  {
   "cell_type": "code",
   "execution_count": 141,
   "id": "3286fac9",
   "metadata": {},
   "outputs": [],
   "source": [
    "# city_data"
   ]
  },
  {
   "cell_type": "code",
   "execution_count": 143,
   "id": "790ede6c",
   "metadata": {},
   "outputs": [],
   "source": [
    "# Создаем пустой датафрейм\n",
    "results_df = pd.DataFrame(columns=['city', 'id_trading_point', 'count_test', 'count_control', 'count_all', 'percent_count',\n",
    "                                   'avg_payment_test', 'avg_payment_control', 'diff', 'sigma_test', 'sigma_control', \n",
    "                                   'ttest', 'pvalue_ttest', 'label'])"
   ]
  },
  {
   "cell_type": "code",
   "execution_count": 144,
   "id": "f4a40423",
   "metadata": {},
   "outputs": [],
   "source": [
    "# Запускаем цикл по всем городам и торговым точкам\n",
    "\n",
    "\n",
    "for city in merged_data['city'].unique():\n",
    "        city_data = merged_data[merged_data['city'] == city]\n",
    "        for tp in city_data['id_trading_point'].unique():\n",
    "            tp_data = city_data[city_data['id_trading_point'] == tp]\n",
    "            count_test = len(tp_data[tp_data['nflag_test'] == 1])\n",
    "            count_control = len(tp_data[tp_data['nflag_test'] == 0])\n",
    "            count_all = count_test + count_control\n",
    "            percent_count = count_all / len(city_data)\n",
    "            avg_payment_test = tp_data[tp_data['nflag_test'] == 1]['total_payments'].mean()\n",
    "            avg_payment_control = tp_data[tp_data['nflag_test'] == 0]['total_payments'].mean()\n",
    "            diff = avg_payment_test - avg_payment_control\n",
    "            sigma_test = tp_data[tp_data['nflag_test'] == 1]['total_payments'].std()\n",
    "            sigma_control = tp_data[tp_data['nflag_test'] == 0]['total_payments'].std()\n",
    "            ttest, pvalue_ttest = stats.ttest_ind(tp_data[tp_data['nflag_test'] == 1]['total_payments'], tp_data[tp_data['nflag_test'] == 0]['total_payments'])\n",
    "            if pvalue_ttest < 0.05:\n",
    "                if diff > 0:\n",
    "                    label = 'positive'\n",
    "                else:\n",
    "                    label = 'negative'\n",
    "            else:\n",
    "                label = 'neutral'\n",
    "            results_df.loc[len(results_df)] = [city, tp, count_test, count_control, count_all, percent_count,\n",
    "                                               avg_payment_test, avg_payment_control, diff, sigma_test, sigma_control,\n",
    "                                               ttest, pvalue_ttest, label]"
   ]
  },
  {
   "cell_type": "code",
   "execution_count": 145,
   "id": "1cba7bb6",
   "metadata": {
    "scrolled": false
   },
   "outputs": [],
   "source": [
    "# results_df[results_df['diff'].isna()]"
   ]
  },
  {
   "cell_type": "code",
   "execution_count": 146,
   "id": "22527b74",
   "metadata": {
    "scrolled": false
   },
   "outputs": [],
   "source": [
    "# merged_data[(merged_data['city']=='Новосибирск')  & (merged_data['nflag_test']==1) & (merged_data['total_payments'] > 0) ]"
   ]
  },
  {
   "cell_type": "code",
   "execution_count": 147,
   "id": "e9443cd9",
   "metadata": {},
   "outputs": [],
   "source": [
    "# merged_data[(merged_data['city']=='Новосибирск') ].groupby('nflag_test','id_trading_point').agg({'total_payments':'sum','nflag_test':'count' })"
   ]
  },
  {
   "cell_type": "code",
   "execution_count": 148,
   "id": "62dc9f55",
   "metadata": {},
   "outputs": [],
   "source": [
    "# Выгрузим полученные результаты в Excel. \n",
    "# Разнесем результаты по трем разным листам в зависимости от лейбла.\n",
    "# with pd.ExcelWriter('results.xlsx') as writer:\n",
    "#     results_df[results_df['label'] == 'positive'].to_excel(writer, sheet_name='Positive', index=False)\n",
    "#     results_df[results_df['label'] == 'negative'].to_excel(writer, sheet_name='Negative', index=False)\n",
    "#     results_df[results_df['label'] == 'neutral'].to_excel(writer, sheet_name='Neutral', index=False)"
   ]
  },
  {
   "cell_type": "code",
   "execution_count": null,
   "id": "f8dec6e6",
   "metadata": {},
   "outputs": [],
   "source": []
  },
  {
   "cell_type": "code",
   "execution_count": null,
   "id": "53a8faca",
   "metadata": {},
   "outputs": [],
   "source": []
  },
  {
   "cell_type": "code",
   "execution_count": null,
   "id": "28addfc7",
   "metadata": {},
   "outputs": [],
   "source": []
  },
  {
   "cell_type": "code",
   "execution_count": null,
   "id": "2e229f7b",
   "metadata": {},
   "outputs": [],
   "source": []
  },
  {
   "cell_type": "code",
   "execution_count": null,
   "id": "d85add9e",
   "metadata": {},
   "outputs": [],
   "source": []
  }
 ],
 "metadata": {
  "kernelspec": {
   "display_name": "Python 3 (ipykernel)",
   "language": "python",
   "name": "python3"
  },
  "language_info": {
   "codemirror_mode": {
    "name": "ipython",
    "version": 3
   },
   "file_extension": ".py",
   "mimetype": "text/x-python",
   "name": "python",
   "nbconvert_exporter": "python",
   "pygments_lexer": "ipython3",
   "version": "3.11.3"
  }
 },
 "nbformat": 4,
 "nbformat_minor": 5
}
